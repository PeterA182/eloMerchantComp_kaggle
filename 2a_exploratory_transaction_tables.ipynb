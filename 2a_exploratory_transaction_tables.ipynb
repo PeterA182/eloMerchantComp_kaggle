{
 "cells": [
  {
   "cell_type": "code",
   "execution_count": 1,
   "metadata": {},
   "outputs": [],
   "source": [
    "import sys\n",
    "import os\n",
    "import pandas as pd\n",
    "import numpy as np\n",
    "import datetime as dt\n",
    "import matplotlib.pyplot as plt\n",
    "import scipy.stats as stat\n",
    "\n",
    "from sklearn.cluster import KMeans\n",
    "from sklearn.preprocessing import StandardScaler\n",
    "from sklearn.decomposition import PCA\n"
   ]
  },
  {
   "cell_type": "code",
   "execution_count": 2,
   "metadata": {},
   "outputs": [],
   "source": [
    "# Files and Paths\n",
    "output_dir = \"hist_exploratory_output/\"\n",
    "if not os.path.exists(output_dir):\n",
    "    os.makedirs(output_dir)\n"
   ]
  },
  {
   "cell_type": "code",
   "execution_count": 10,
   "metadata": {},
   "outputs": [
    {
     "name": "stdout",
     "output_type": "stream",
     "text": [
      "read in\n",
      "Index([u'authorized_flag', u'card_id', u'city_id', u'category_1',\n",
      "       u'installments', u'category_3', u'merchant_category_id', u'merchant_id',\n",
      "       u'month_lag', u'purchase_amount', u'purchase_date', u'category_2',\n",
      "       u'state_id', u'subsector_id', u'merchant_group_id',\n",
      "       u'merchant_category_id_merch', u'subsector_id_merch', u'numerical_1',\n",
      "       u'numerical_2', u'category_1_merch', u'most_recent_sales_range',\n",
      "       u'most_recent_purchases_range', u'avg_sales_lag3',\n",
      "       u'avg_purchases_lag3', u'active_months_lag3', u'avg_sales_lag6',\n",
      "       u'avg_purchases_lag6', u'active_months_lag6', u'avg_sales_lag12',\n",
      "       u'avg_purchases_lag12', u'active_months_lag12', u'category_4',\n",
      "       u'city_id_merch', u'state_id_merch', u'category_2_merch', u'binId'],\n",
      "      dtype='object')\n",
      "1.0    1030386\n",
      "3.0     241910\n",
      "5.0     229493\n",
      "4.0     167577\n",
      "2.0      62490\n",
      "Name: category_2, dtype: int64\n"
     ]
    },
    {
     "ename": "NameError",
     "evalue": "name 'sdfjskdfjs' is not defined",
     "output_type": "error",
     "traceback": [
      "\u001b[0;31m---------------------------------------------------------------------------\u001b[0m",
      "\u001b[0;31mNameError\u001b[0m                                 Traceback (most recent call last)",
      "\u001b[0;32m<ipython-input-10-1d4591fafd5a>\u001b[0m in \u001b[0;36m<module>\u001b[0;34m()\u001b[0m\n\u001b[1;32m      3\u001b[0m \u001b[0;32mprint\u001b[0m\u001b[0;34m(\u001b[0m\u001b[0mdf\u001b[0m\u001b[0;34m.\u001b[0m\u001b[0mcolumns\u001b[0m\u001b[0;34m)\u001b[0m\u001b[0;34m\u001b[0m\u001b[0m\n\u001b[1;32m      4\u001b[0m \u001b[0;32mprint\u001b[0m\u001b[0;34m(\u001b[0m\u001b[0mdf\u001b[0m\u001b[0;34m.\u001b[0m\u001b[0mcategory_2\u001b[0m\u001b[0;34m.\u001b[0m\u001b[0mvalue_counts\u001b[0m\u001b[0;34m(\u001b[0m\u001b[0;34m)\u001b[0m\u001b[0;34m)\u001b[0m\u001b[0;34m\u001b[0m\u001b[0m\n\u001b[0;32m----> 5\u001b[0;31m \u001b[0msdfjskdfjs\u001b[0m\u001b[0;34m\u001b[0m\u001b[0m\n\u001b[0m\u001b[1;32m      6\u001b[0m \u001b[0mhist_month_diff\u001b[0m \u001b[0;34m=\u001b[0m \u001b[0mdf\u001b[0m\u001b[0;34m.\u001b[0m\u001b[0mloc\u001b[0m\u001b[0;34m[\u001b[0m\u001b[0;34m:\u001b[0m\u001b[0;34m,\u001b[0m \u001b[0;34m[\u001b[0m\u001b[0;34m'card_id'\u001b[0m\u001b[0;34m,\u001b[0m \u001b[0;34m'purchase_date'\u001b[0m\u001b[0;34m,\u001b[0m \u001b[0;34m'month_lag'\u001b[0m\u001b[0;34m]\u001b[0m\u001b[0;34m]\u001b[0m\u001b[0;34m\u001b[0m\u001b[0m\n\u001b[1;32m      7\u001b[0m hist_month_diff.loc[:, 'hist_trans_month_diff'] = (\n",
      "\u001b[0;31mNameError\u001b[0m: name 'sdfjskdfjs' is not defined"
     ]
    }
   ],
   "source": [
    "df = pd.read_csv(\"assembled_bins/hist_bin_C_ID_0.csv\")\n",
    "print('read in')\n",
    "print(df.columns)\n",
    "print(df.category_2.value_counts())\n",
    "sdfjskdfjs\n",
    "hist_month_diff = df.loc[:, ['card_id', 'purchase_date', 'month_lag']]\n",
    "hist_month_diff.loc[:, 'hist_trans_month_diff'] = (\n",
    "        dt.datetime.today() - pd.to_datetime(hist_month_diff['purchase_date'])\n",
    "    ).dt.days//30\n",
    "hist_month_diff['hist_trans_month_diff'] += hist_month_diff['month_lag']\n",
    "hist_month_diff = hist_month_diff.groupby(\n",
    "        by=['card_id'],\n",
    "        as_index=False\n",
    "    ).agg({'hist_trans_month_diff': [np.std, np.mean]})\n",
    "print(hist_month_diff.head())\n",
    "hist_month_diff.columns = [x[0] if x[1] == '' else x[0]+\"_\"+x[1] for x in hist_month_diff.columns]\n",
    "print(hist_month_diff.head())\n",
    "\n",
    "#df_new = pd.get_dummies(df, columns=['merchant_id'])\n",
    "#print(df_new.columns)"
   ]
  },
  {
   "cell_type": "code",
   "execution_count": 45,
   "metadata": {},
   "outputs": [
    {
     "data": {
      "text/plain": [
       "Index([u'first_active_month', u'card_id', u'feature_1', u'feature_2',\n",
       "       u'feature_3', u'target', u'binId'],\n",
       "      dtype='object')"
      ]
     },
     "execution_count": 45,
     "metadata": {},
     "output_type": "execute_result"
    }
   ],
   "source": [
    "df_train = pd.read_csv(\"assembled_bins/train_bin_C_ID_0.csv\")\n",
    "df_train.columns"
   ]
  },
  {
   "cell_type": "code",
   "execution_count": 17,
   "metadata": {},
   "outputs": [
    {
     "data": {
      "image/png": "[encoded data removed]",
      "text/plain": [
       "<Figure size 1008x576 with 1 Axes>"
      ]
     },
     "metadata": {},
     "output_type": "display_data"
    },
    {
     "data": {
      "image/png": "[encoded data removed]",
      "text/plain": [
       "<Figure size 1008x576 with 1 Axes>"
      ]
     },
     "metadata": {},
     "output_type": "display_data"
    }
   ],
   "source": [
    "# City ID bars\n",
    "vc = df.groupby(by=['city_id'], as_index=False).agg({'card_id': [pd.Series.nunique, 'count']})\n",
    "vc.columns = list([x[0] if x[1] == '' else x[1] for x in vc.columns])\n",
    "figure = plt.figure(figsize=(14, 8))\n",
    "vc.sort_values(by=['count'], ascending=False, inplace=True)\n",
    "plt.bar(vc['city_id'], vc['count'], color='red')\n",
    "plt.grid()\n",
    "plt.show(block=False)\n",
    "\n",
    "figure = plt.figure(figsize=(14, 8))\n",
    "vc.sort_values(by=['nunique'], ascending=False, inplace=True)\n",
    "plt.bar(vc['city_id'], vc['nunique'], color='red')\n",
    "plt.grid()\n",
    "plt.show(block=False)"
   ]
  },
  {
   "cell_type": "code",
   "execution_count": 40,
   "metadata": {},
   "outputs": [
    {
     "name": "stdout",
     "output_type": "stream",
     "text": [
      "[0.19762991 0.0662844  0.05016835 0.04549544]\n",
      "           card_id  city_id_pc_0  city_id_pc_1  city_id_pc_2\n",
      "0  C_ID_00007093c1      0.041542      0.042505      0.949061\n",
      "1  C_ID_0001238066     -0.000009     -0.000909     -0.001290\n",
      "2  C_ID_0001506ef0     -0.000103     -0.000107     -0.000286\n",
      "3  C_ID_0001793786     -0.000080     -0.000662     -0.000580\n",
      "4  C_ID_000183fdda     -0.001683     -0.001614      0.004676\n"
     ]
    }
   ],
   "source": [
    "# Get city_id indicator wide\n",
    "trans_hist_wide = df.pivot_table(\n",
    "    index=['card_id'],\n",
    "    columns=['city_id'],\n",
    "    values=['merchant_id'],\n",
    "    aggfunc='count'\n",
    ")\n",
    "trans_hist_wide.reset_index(inplace=True)\n",
    "trans_hist_wide.columns = [x[0] if x[1] == '' else \"city_id_{}_trans_count\".format(str(x[1])) \n",
    "                            for x in trans_hist_wide.columns]\n",
    "# FillNA\n",
    "count_cols = [x for x in trans_hist_wide.columns if \"trans_count\" in x]\n",
    "for col in count_cols:\n",
    "    trans_hist_wide[col].fillna(0, inplace=True)\n",
    "\n",
    "# PCA\n",
    "pca = PCA(n_components=4)\n",
    "x_decomp = pca.fit_transform(trans_hist_wide[count_cols])\n",
    "print(pca.explained_variance_ratio_)\n",
    "\n",
    "pca_loadings = pca.components_.T\n",
    "df_pcs = pd.DataFrame(pca_loadings[:,:4])\n",
    "df_pcs.columns = ['city_id_pc_0', 'city_id_pc_1', 'city_id_pc_2', 'city_id_pc_3']\n",
    "trans_hist_wide = pd.concat(\n",
    "    objs=[trans_hist_wide[['card_id']], df_pcs],\n",
    "    axis=1\n",
    ")\n",
    "print(trans_hist_wide.head())"
   ]
  },
  {
   "cell_type": "code",
   "execution_count": 42,
   "metadata": {},
   "outputs": [
    {
     "name": "stdout",
     "output_type": "stream",
     "text": [
      "N    1768219\n",
      "Y     134707\n",
      "Name: category_1, dtype: int64\n",
      "1.0    1030386\n",
      "3.0     241910\n",
      "5.0     229493\n",
      "4.0     167577\n",
      "2.0      62490\n",
      "Name: category_2, dtype: int64\n",
      "A    1023010\n",
      "B     748261\n",
      "C     120296\n",
      "Name: category_3, dtype: int64\n"
     ]
    }
   ],
   "source": [
    "# Categories\n",
    "vc_cat1 = df.category_1.value_counts()\n",
    "print(vc_cat1)\n",
    "vc_cat2 = df.category_2.value_counts()\n",
    "print(vc_cat2)\n",
    "vc_cat3 = df.category_3.value_counts()\n",
    "print(vc_cat3)\n"
   ]
  },
  {
   "cell_type": "code",
   "execution_count": null,
   "metadata": {},
   "outputs": [],
   "source": []
  }
 ],
 "metadata": {
  "kernelspec": {
   "display_name": "Python 2",
   "language": "python",
   "name": "python2"
  },
  "language_info": {
   "codemirror_mode": {
    "name": "ipython",
    "version": 2
   },
   "file_extension": ".py",
   "mimetype": "text/x-python",
   "name": "python",
   "nbconvert_exporter": "python",
   "pygments_lexer": "ipython2",
   "version": "2.7.15"
  }
 },
 "nbformat": 4,
 "nbformat_minor": 2
}
